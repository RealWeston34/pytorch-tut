{
 "cells": [
  {
   "cell_type": "code",
   "execution_count": null,
   "metadata": {},
   "outputs": [],
   "source": []
  },
  {
   "attachments": {},
   "cell_type": "markdown",
   "metadata": {},
   "source": [
    "What is Pytorch?\n",
    "\n",
    "\n",
    "    Machine Learning Framework\n",
    "\n",
    "\n",
    "    Used for research prototyping\n",
    "\n",
    "\n",
    "    Used for deployment to production\n",
    "\n",
    "\n",
    "    All code is done in python \n"
   ]
  },
  {
   "attachments": {},
   "cell_type": "markdown",
   "metadata": {},
   "source": [
    "Tensors\n",
    "\n",
    "Multi-Dimensional Arrays/Vectors"
   ]
  },
  {
   "cell_type": "code",
   "execution_count": 1,
   "metadata": {},
   "outputs": [],
   "source": [
    "import torch"
   ]
  },
  {
   "cell_type": "code",
   "execution_count": 3,
   "metadata": {},
   "outputs": [
    {
     "name": "stdout",
     "output_type": "stream",
     "text": [
      "tensor([[1., 1., 1.],\n",
      "        [1., 1., 1.],\n",
      "        [1., 1., 1.],\n",
      "        [1., 1., 1.],\n",
      "        [1., 1., 1.]])\n",
      "torch.float32\n"
     ]
    }
   ],
   "source": [
    "z = torch.ones(5,3) #tensor use ones function to specify dimension of matrix with ones\n",
    "print(z) \n",
    "print(z.dtype) #by default all tensors are 32 bit floats"
   ]
  },
  {
   "cell_type": "code",
   "execution_count": 7,
   "metadata": {},
   "outputs": [
    {
     "name": "stdout",
     "output_type": "stream",
     "text": [
      "tensor([[1, 1, 1],\n",
      "        [1, 1, 1],\n",
      "        [1, 1, 1],\n",
      "        [1, 1, 1],\n",
      "        [1, 1, 1]], dtype=torch.int16)\n"
     ]
    }
   ],
   "source": [
    "#change the default data type in each tensor \n",
    "i = torch.ones((5,3), dtype = torch.int16)\n",
    "print(i) # will specify dype because this is not default params "
   ]
  },
  {
   "cell_type": "code",
   "execution_count": 8,
   "metadata": {},
   "outputs": [
    {
     "name": "stdout",
     "output_type": "stream",
     "text": [
      "A random tensor: \n",
      "tensor([[0.3126, 0.3791],\n",
      "        [0.3087, 0.0736]])\n",
      "\n",
      "A different random tensor\n",
      "tensor([[0.4216, 0.0691],\n",
      "        [0.2332, 0.4047]])\n",
      "A random tensor \n",
      "tensor([[0.3126, 0.3791],\n",
      "        [0.3087, 0.0736]])\n"
     ]
    }
   ],
   "source": [
    "torch.manual_seed(1729) #manual seed to control randomness\n",
    "r1 = torch.rand(2,2)\n",
    "print('A random tensor: ')\n",
    "print(r1)\n",
    "\n",
    "r2 = torch.rand(2,2)\n",
    "print('\\nA different random tensor')\n",
    "print(r2)\n",
    "\n",
    "#go back to the original seed and get the same tensor\n",
    "\n",
    "torch.manual_seed(1729) \n",
    "r3 = torch.rand(2,2)\n",
    "print('A random tensor ')\n",
    "print(r3)\n",
    "\n"
   ]
  },
  {
   "cell_type": "code",
   "execution_count": 11,
   "metadata": {},
   "outputs": [
    {
     "name": "stdout",
     "output_type": "stream",
     "text": [
      "tensor([[2., 2., 2.],\n",
      "        [2., 2., 2.]])\n",
      "tensor([[3., 3., 3.],\n",
      "        [3., 3., 3.]])\n",
      "torch.Size([2, 3])\n",
      "Error, dimensionality does not match\n"
     ]
    }
   ],
   "source": [
    "#Arithmetic with pytorch tensors\n",
    "\n",
    "ones = torch.ones(2,3)\n",
    "twos = ones*2\n",
    "print(twos)\n",
    "\n",
    "#adding two tensores of the same shape\n",
    "\n",
    "threes = ones + twos\n",
    "print(threes)\n",
    "print(threes.shape)\n",
    "\n",
    "#add two tensors of different shape\n",
    "r1 = torch.rand(2,3)\n",
    "r2 = torch.rand(3,2)\n",
    "\n",
    "try:\n",
    "    r3 = r1 + r2\n",
    "    print(r2)\n",
    "    print(r2.shape)\n",
    "except:\n",
    "    print(\"Error, dimensionality does not match\")\n",
    "\n",
    "\n"
   ]
  },
  {
   "cell_type": "code",
   "execution_count": 24,
   "metadata": {},
   "outputs": [
    {
     "name": "stdout",
     "output_type": "stream",
     "text": [
      "Random matrix\n",
      "tensor([[ 0.9767, -0.0476],\n",
      "        [ 0.4484, -0.8447]])\n",
      "Absolute Value: \n",
      "tensor([[0.9767, 0.0476],\n",
      "        [0.4484, 0.8447]])\n",
      "arcsin: \n",
      "tensor([[ 1.3543, -0.0476],\n",
      "        [ 0.4650, -1.0060]])\n",
      "determinant of r: \n",
      "tensor(-0.8037)\n",
      "max elem: \n",
      "tensor(0.9767)\n"
     ]
    }
   ],
   "source": [
    "#mathematical operations\n",
    "\n",
    "r = (torch.rand(2,2) - 0.5) * 2\n",
    "print(\"Random matrix\")\n",
    "print(r)\n",
    "\n",
    "#abs\n",
    "print(\"Absolute Value: \")\n",
    "print(torch.abs(r))\n",
    "\n",
    "#trig functions\n",
    "print(\"arcsin: \")\n",
    "print(torch.arcsin(r))\n",
    "\n",
    "#Lin alg\n",
    "print(\"determinant of r: \")\n",
    "print(torch.det(r))\n",
    "\n",
    "#stats - stddev, means, etc.\n",
    "\n",
    "#max element\n",
    "print(\"max elem: \")\n",
    "print(torch.max(r))"
   ]
  }
 ],
 "metadata": {
  "kernelspec": {
   "display_name": "Python 3",
   "language": "python",
   "name": "python3"
  },
  "language_info": {
   "codemirror_mode": {
    "name": "ipython",
    "version": 3
   },
   "file_extension": ".py",
   "mimetype": "text/x-python",
   "name": "python",
   "nbconvert_exporter": "python",
   "pygments_lexer": "ipython3",
   "version": "3.10.2"
  },
  "orig_nbformat": 4
 },
 "nbformat": 4,
 "nbformat_minor": 2
}

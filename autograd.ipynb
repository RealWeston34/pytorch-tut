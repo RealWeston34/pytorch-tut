{
 "cells": [
  {
   "cell_type": "code",
   "execution_count": null,
   "metadata": {},
   "outputs": [],
   "source": []
  },
  {
   "attachments": {},
   "cell_type": "markdown",
   "metadata": {},
   "source": [
    "Automatic Differentaion Engine:\n",
    "\n",
    "Use a simple rnn"
   ]
  },
  {
   "cell_type": "code",
   "execution_count": null,
   "metadata": {},
   "outputs": [],
   "source": [
    "#TRAINING FRAMEWORK\n",
    "import torch\n",
    "\n",
    "# SIMPLE RNN\n",
    "#torch.rand vs torch.randn --> randn has a normal distribution\n",
    "x = torch.randn(1, 10) #input\n",
    "prev_h = torch.randn(1,20) #hidden state\n",
    "W_h = torch.randn(20,20)\n",
    "W_x = torch.randn(20,10)\n",
    "\n",
    "i2h = torch.mm(W_x,x.t()) #x.t() is the transpose\n",
    "h2h = torch.mm(W_h, prev_h.t()) \n",
    "#activation function -> hyberbolic tangent\n",
    "next_h = i2h + h2h\n",
    "next_h = next_h.tanh()\n",
    "\n",
    "#loss function\n",
    "loss = next_h.sum()\n",
    "\n",
    "#Take the gradient to find the \n",
    "loss.backward() #has history tracking to trace path of input \n",
    "#  through metadata\n"
   ]
  }
 ],
 "metadata": {
  "language_info": {
   "name": "python"
  },
  "orig_nbformat": 4
 },
 "nbformat": 4,
 "nbformat_minor": 2
}
